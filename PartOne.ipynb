{
 "cells": [
  {
   "cell_type": "code",
   "execution_count": 1,
   "id": "38af4a90",
   "metadata": {},
   "outputs": [],
   "source": [
    "import nltk\n",
    "import spacy\n",
    "from pathlib import Path\n",
    "\n",
    "\n",
    "nlp = spacy.load(\"en_core_web_sm\")\n",
    "nlp.max_length = 2000000"
   ]
  },
  {
   "cell_type": "markdown",
   "id": "7e1d1819",
   "metadata": {},
   "source": [
    "(a) read_novels: Each file in the novels directory contains the text of a novel, and 4 the name of the file is the title, author, and year of publication of the novel, separated by hyphens. Complete the python function read_texts to do the following:\n",
    "i. create a pandas dataframe with the following columns: text, title, author, year\n",
    "ii. sort the dataframe by the year column before returning it, resetting or ignoring the dataframe index."
   ]
  },
  {
   "cell_type": "code",
   "execution_count": null,
   "id": "723b7e83",
   "metadata": {},
   "outputs": [],
   "source": []
  }
 ],
 "metadata": {
  "kernelspec": {
   "display_name": "3.11.9",
   "language": "python",
   "name": "python3"
  },
  "language_info": {
   "codemirror_mode": {
    "name": "ipython",
    "version": 3
   },
   "file_extension": ".py",
   "mimetype": "text/x-python",
   "name": "python",
   "nbconvert_exporter": "python",
   "pygments_lexer": "ipython3",
   "version": "3.11.9"
  }
 },
 "nbformat": 4,
 "nbformat_minor": 5
}
