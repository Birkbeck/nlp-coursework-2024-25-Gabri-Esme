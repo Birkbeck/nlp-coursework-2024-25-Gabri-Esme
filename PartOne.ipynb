{
 "cells": [
  {
   "cell_type": "code",
   "execution_count": 23,
   "id": "38af4a90",
   "metadata": {},
   "outputs": [
    {
     "data": {
      "text/plain": [
       "<module 'PartOne' from '/Applications/Documents/University/MSc/NLP/nlp-coursework-2024-25-Gabri-Esme/PartOne.py'>"
      ]
     },
     "execution_count": 23,
     "metadata": {},
     "output_type": "execute_result"
    }
   ],
   "source": [
    "import importlib, PartOne\n",
    "importlib.reload(PartOne)"
   ]
  },
  {
   "cell_type": "markdown",
   "id": "7e1d1819",
   "metadata": {},
   "source": [
    "(a) read_novels: Each file in the novels directory contains the text of a novel, and 4 the name of the file is the title, author, and year of publication of the novel, separated by hyphens. Complete the python function read_texts to do the following:\n",
    "i. create a pandas dataframe with the following columns: text, title, author, year\n",
    "ii. sort the dataframe by the year column before returning it, resetting or ignoring the dataframe index."
   ]
  },
  {
   "cell_type": "code",
   "execution_count": 20,
   "id": "723b7e83",
   "metadata": {},
   "outputs": [
    {
     "name": "stdout",
     "output_type": "stream",
     "text": [
      "                       title    author  year  \\\n",
      "0      Sense_and_Sensibility    Austen  1811   \n",
      "1            North_and_South   Gaskell  1855   \n",
      "2       A_Tale_of_Two_Cities   Dickens  1858   \n",
      "3                    Erewhon    Butler  1872   \n",
      "4               The_American     James  1877   \n",
      "5                Dorian_Gray     Wilde  1890   \n",
      "6   Tess_of_the_DUrbervilles     Hardy  1891   \n",
      "7            The_Golden_Bowl     James  1904   \n",
      "8          The_Secret_Garden   Burnett  1911   \n",
      "9     Portrait_of_the_Artist     Joyce  1916   \n",
      "10            The_Black_Moth     Heyer  1926   \n",
      "11                   Orlando     Woolf  1928   \n",
      "12            Blood_Meridian  McCarthy  1930   \n",
      "\n",
      "                                                 text  \n",
      "0   \\nCHAPTER 1\\n\\nThe family of Dashwood had long...  \n",
      "1   'Wooed and married and a'.'\\n'Edith!' said Mar...  \n",
      "2   Book the First--Recalled to Life\\n\\n\\n\\n\\nI. T...  \n",
      "3   SAMUEL BUTLER.\\nAugust 7, 1901\\n\\nCHAPTER I: W...  \n",
      "4   THE AMERICAN\\n\\nby Henry James\\n\\n\\n1877\\n\\n\\n...  \n",
      "5   \\nThe Picture of Dorian Gray\\n\\nby\\n\\nOscar Wi...  \n",
      "6   Phase the First: The Maiden\\n\\n\\nI\\n\\n\\nOn an ...  \n",
      "7   BOOK FIRST: THE PRINCE\\n\\n\\n\\n\\nPART FIRST\\n\\n...  \n",
      "8   THE SECRET GARDEN\\n\\nBY FRANCES HODGSON BURNET...  \n",
      "9   Chapter 1\\n\\nOnce upon a time and a very good ...  \n",
      "10  \\nTHE BLACK MOTH\\n\\nA ROMANCE OF THE XVIII CEN...  \n",
      "11  ORLANDO\\n\\nA BIOGRAPHY\\n\\nBY\\n\\nVIRGINIA WOOLF...  \n",
      "12  Your ideas are terrifying and your hearts are ...  \n"
     ]
    }
   ],
   "source": [
    "# i. create a pandas dataframe with the following columns: text, title, author, year\n",
    "# ii. sort the dataframe by the year column before returning it, resetting or ignoring the dataframe index.\n",
    "df = PartOne.read_novels(path=Path(\"p1-texts/novels\"))\n",
    "print(df)"
   ]
  },
  {
   "cell_type": "markdown",
   "id": "f795b131",
   "metadata": {},
   "source": [
    "(b) nltk_ttr: This function should return a dictionary mapping the title of each 4 novel to its type-token ratio. Tokenize the text using the NLTK library only.\n",
    "Do not include punctuation as tokens, and ignore case when counting types."
   ]
  },
  {
   "cell_type": "code",
   "execution_count": 24,
   "id": "07914883",
   "metadata": {},
   "outputs": [
    {
     "name": "stdout",
     "output_type": "stream",
     "text": [
      "{'Sense_and_Sensibility': 0.052847302442989776, 'North_and_South': 0.0549040694681204, 'A_Tale_of_Two_Cities': 0.07072694469399422, 'Erewhon': 0.09151270564132943, 'The_American': 0.06381607058523676, 'Dorian_Gray': 0.08355234620193412, 'Tess_of_the_DUrbervilles': 0.07778957979554696, 'The_Golden_Bowl': 0.047475476259872806, 'The_Secret_Garden': 0.05847231570812455, 'Portrait_of_the_Artist': 0.10472745625841184, 'The_Black_Moth': 0.07866588875923765, 'Orlando': 0.1137245917497168, 'Blood_Meridian': 0.08568897067593587}\n"
     ]
    }
   ],
   "source": [
    "ttr_df = PartOne.get_ttrs(df)\n",
    "print(ttr_df)"
   ]
  },
  {
   "cell_type": "markdown",
   "id": "fd0be768",
   "metadata": {},
   "source": [
    "(c) flesch_kincaid: This function should return a dictionary mapping the title of 4 each novel to the Flesch-Kincaid reading grade level score of the text. Use the\n",
    "NLTK library for tokenization and the CMU pronouncing dictionary for esti-\n",
    "mating syllable counts."
   ]
  },
  {
   "cell_type": "code",
   "execution_count": null,
   "id": "2e04d4b8",
   "metadata": {},
   "outputs": [],
   "source": []
  }
 ],
 "metadata": {
  "kernelspec": {
   "display_name": ".venv",
   "language": "python",
   "name": "python3"
  },
  "language_info": {
   "codemirror_mode": {
    "name": "ipython",
    "version": 3
   },
   "file_extension": ".py",
   "mimetype": "text/x-python",
   "name": "python",
   "nbconvert_exporter": "python",
   "pygments_lexer": "ipython3",
   "version": "3.11.12"
  }
 },
 "nbformat": 4,
 "nbformat_minor": 5
}
