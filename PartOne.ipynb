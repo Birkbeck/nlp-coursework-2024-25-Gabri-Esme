{
 "cells": [
  {
   "cell_type": "code",
   "execution_count": 6,
   "id": "38af4a90",
   "metadata": {},
   "outputs": [],
   "source": [
    "import PartOne"
   ]
  },
  {
   "cell_type": "markdown",
   "id": "7e1d1819",
   "metadata": {},
   "source": [
    "(a) read_novels: Each file in the novels directory contains the text of a novel, and 4 the name of the file is the title, author, and year of publication of the novel, separated by hyphens. Complete the python function read_texts to do the following:\n",
    "i. create a pandas dataframe with the following columns: text, title, author, year\n",
    "ii. sort the dataframe by the year column before returning it, resetting or ignoring the dataframe index."
   ]
  },
  {
   "cell_type": "code",
   "execution_count": null,
   "id": "723b7e83",
   "metadata": {},
   "outputs": [
    {
     "ename": "SyntaxError",
     "evalue": "invalid syntax (533363542.py, line 3)",
     "output_type": "error",
     "traceback": [
      "  \u001b[36mCell\u001b[39m\u001b[36m \u001b[39m\u001b[32mIn[7]\u001b[39m\u001b[32m, line 3\u001b[39m\n\u001b[31m    \u001b[39m\u001b[31mdf = PartOne.read_novels(/Applications/Documents/University/MSc/NLP/nlp-coursework-2024-25-Gabri-Esme/p1-texts)\u001b[39m\n                             ^\n\u001b[31mSyntaxError\u001b[39m\u001b[31m:\u001b[39m invalid syntax\n"
     ]
    }
   ],
   "source": [
    "# i. create a pandas dataframe with the following columns: text, title, author, year\n",
    "# ii. sort the dataframe by the year column before returning it, resetting or ignoring the dataframe index.\n",
    "df = PartOne.read_novels()\n",
    "\n",
    "\n",
    "\n",
    "\n"
   ]
  }
 ],
 "metadata": {
  "kernelspec": {
   "display_name": ".venv",
   "language": "python",
   "name": "python3"
  },
  "language_info": {
   "codemirror_mode": {
    "name": "ipython",
    "version": 3
   },
   "file_extension": ".py",
   "mimetype": "text/x-python",
   "name": "python",
   "nbconvert_exporter": "python",
   "pygments_lexer": "ipython3",
   "version": "3.11.12"
  }
 },
 "nbformat": 4,
 "nbformat_minor": 5
}
